{
  "nbformat": 4,
  "nbformat_minor": 0,
  "metadata": {
    "colab": {
      "provenance": []
    },
    "kernelspec": {
      "name": "python3",
      "display_name": "Python 3"
    },
    "language_info": {
      "name": "python"
    }
  },
  "cells": [
    {
      "cell_type": "markdown",
      "source": [
        "# Gradient Descent for Linear Regression (Multiple feature) & Feature Scaling\n",
        "The provided code implements the gradient descent algorithm for a multiple feature or input and feature scaling with z-score normalitation method. I am utilizing the ['sri-lanka-house-prices-dataset'](https://www.kaggle.com/datasets/lasaljaywardena/sri-lanka-house-prices-dataset) dataset obtained from Kaggle which contains the prices of houses in various regions of Sri Lanka. However, in this implementation i will use only ten rows of data and there are three independent variables (feature) and one dependent variable (target). The independent variables are 'Baths', 'Beds', and 'House size'. The dependent variable is 'Price'.\n"
      ],
      "metadata": {
        "id": "C-q3B9_VFt4q"
      }
    },
    {
      "cell_type": "markdown",
      "source": [
        "## Import dataset from Kaggle\n",
        "This dataset was sourced from Kaggle and imported for use in this context.\n"
      ],
      "metadata": {
        "id": "zyc_4M1UGwIU"
      }
    },
    {
      "cell_type": "code",
      "source": [
        "!chmod 600 /content/kaggle.json"
      ],
      "metadata": {
        "id": "VJS2vAzMFrB4"
      },
      "execution_count": 208,
      "outputs": []
    },
    {
      "cell_type": "code",
      "source": [
        "!KAGGLE_CONFIG_DIR=/content/ kaggle datasets download -d lasaljaywardena/sri-lanka-house-prices-dataset"
      ],
      "metadata": {
        "colab": {
          "base_uri": "https://localhost:8080/"
        },
        "id": "Tdxw3KPln_9z",
        "outputId": "191cfb1c-0d4c-4669-96ea-ef976def3dc3"
      },
      "execution_count": 206,
      "outputs": [
        {
          "output_type": "stream",
          "name": "stdout",
          "text": [
            "sri-lanka-house-prices-dataset.zip: Skipping, found more recently modified local copy (use --force to force download)\n"
          ]
        }
      ]
    },
    {
      "cell_type": "code",
      "source": [
        "import zipfile\n",
        "zip_file = zipfile.ZipFile('/content/sri-lanka-house-prices-dataset.zip','r')\n",
        "zip_file.extractall()"
      ],
      "metadata": {
        "id": "8ICH0K6goJnL"
      },
      "execution_count": 140,
      "outputs": []
    },
    {
      "cell_type": "code",
      "source": [
        "import pandas as pd\n",
        "import numpy as np\n",
        "import copy, math\n",
        "import matplotlib.pyplot as plt\n",
        "from matplotlib.ticker import FormatStrFormatter"
      ],
      "metadata": {
        "id": "Rk7CRGLXod3G"
      },
      "execution_count": 141,
      "outputs": []
    },
    {
      "cell_type": "markdown",
      "source": [
        "‎ ‎ ‎ ‎ ‎ ‎ ‎ ‎ ‎ ‎ ‎ ‎ ‎ ‎‎ ‎ ‎ ‎ ‎ ‎  "
      ],
      "metadata": {
        "id": "79F8xAxcSd2A"
      }
    },
    {
      "cell_type": "markdown",
      "source": [
        "## Data Training\n",
        "There are ten rows of training data, and i have converted the values to integers."
      ],
      "metadata": {
        "id": "td06SHrWG9EV"
      }
    },
    {
      "cell_type": "code",
      "source": [
        "# Read a CSV file named \"house_prices.csv\" and\n",
        "# display the first 10 rows of the data\n",
        "path = \"house_prices.csv\"\n",
        "adv = pd.read_csv(path, usecols=['Baths','Beds','House size', 'Price'])\n",
        "adv.head(10)"
      ],
      "metadata": {
        "colab": {
          "base_uri": "https://localhost:8080/",
          "height": 363
        },
        "id": "vKjA587focks",
        "outputId": "24271e66-c8bf-40bd-fa56-14ae97fb2b3b"
      },
      "execution_count": 142,
      "outputs": [
        {
          "output_type": "execute_result",
          "data": {
            "text/plain": [
              "            Price Baths Beds    House size\n",
              "0    Rs 5,400,000     1    3  1,600.0 sqft\n",
              "1   Rs 16,800,000     3    3  1,480.0 sqft\n",
              "2   Rs 20,000,000     2    3  2,800.0 sqft\n",
              "3  Rs 187,000,000     5    5  4,000.0 sqft\n",
              "4    Rs 1,300,000     1    2    900.0 sqft\n",
              "5   Rs 55,000,000     4    4  3,300.0 sqft\n",
              "6   Rs 45,000,000     4    4  4,100.0 sqft\n",
              "7   Rs 16,700,000     3    3  1,400.0 sqft\n",
              "8   Rs 50,000,000     4    4  4,000.0 sqft\n",
              "9   Rs 16,000,000     1    3  2,000.0 sqft"
            ],
            "text/html": [
              "\n",
              "  <div id=\"df-f070a55c-423b-485f-b20a-3cdf0c4f85d4\" class=\"colab-df-container\">\n",
              "    <div>\n",
              "<style scoped>\n",
              "    .dataframe tbody tr th:only-of-type {\n",
              "        vertical-align: middle;\n",
              "    }\n",
              "\n",
              "    .dataframe tbody tr th {\n",
              "        vertical-align: top;\n",
              "    }\n",
              "\n",
              "    .dataframe thead th {\n",
              "        text-align: right;\n",
              "    }\n",
              "</style>\n",
              "<table border=\"1\" class=\"dataframe\">\n",
              "  <thead>\n",
              "    <tr style=\"text-align: right;\">\n",
              "      <th></th>\n",
              "      <th>Price</th>\n",
              "      <th>Baths</th>\n",
              "      <th>Beds</th>\n",
              "      <th>House size</th>\n",
              "    </tr>\n",
              "  </thead>\n",
              "  <tbody>\n",
              "    <tr>\n",
              "      <th>0</th>\n",
              "      <td>Rs 5,400,000</td>\n",
              "      <td>1</td>\n",
              "      <td>3</td>\n",
              "      <td>1,600.0 sqft</td>\n",
              "    </tr>\n",
              "    <tr>\n",
              "      <th>1</th>\n",
              "      <td>Rs 16,800,000</td>\n",
              "      <td>3</td>\n",
              "      <td>3</td>\n",
              "      <td>1,480.0 sqft</td>\n",
              "    </tr>\n",
              "    <tr>\n",
              "      <th>2</th>\n",
              "      <td>Rs 20,000,000</td>\n",
              "      <td>2</td>\n",
              "      <td>3</td>\n",
              "      <td>2,800.0 sqft</td>\n",
              "    </tr>\n",
              "    <tr>\n",
              "      <th>3</th>\n",
              "      <td>Rs 187,000,000</td>\n",
              "      <td>5</td>\n",
              "      <td>5</td>\n",
              "      <td>4,000.0 sqft</td>\n",
              "    </tr>\n",
              "    <tr>\n",
              "      <th>4</th>\n",
              "      <td>Rs 1,300,000</td>\n",
              "      <td>1</td>\n",
              "      <td>2</td>\n",
              "      <td>900.0 sqft</td>\n",
              "    </tr>\n",
              "    <tr>\n",
              "      <th>5</th>\n",
              "      <td>Rs 55,000,000</td>\n",
              "      <td>4</td>\n",
              "      <td>4</td>\n",
              "      <td>3,300.0 sqft</td>\n",
              "    </tr>\n",
              "    <tr>\n",
              "      <th>6</th>\n",
              "      <td>Rs 45,000,000</td>\n",
              "      <td>4</td>\n",
              "      <td>4</td>\n",
              "      <td>4,100.0 sqft</td>\n",
              "    </tr>\n",
              "    <tr>\n",
              "      <th>7</th>\n",
              "      <td>Rs 16,700,000</td>\n",
              "      <td>3</td>\n",
              "      <td>3</td>\n",
              "      <td>1,400.0 sqft</td>\n",
              "    </tr>\n",
              "    <tr>\n",
              "      <th>8</th>\n",
              "      <td>Rs 50,000,000</td>\n",
              "      <td>4</td>\n",
              "      <td>4</td>\n",
              "      <td>4,000.0 sqft</td>\n",
              "    </tr>\n",
              "    <tr>\n",
              "      <th>9</th>\n",
              "      <td>Rs 16,000,000</td>\n",
              "      <td>1</td>\n",
              "      <td>3</td>\n",
              "      <td>2,000.0 sqft</td>\n",
              "    </tr>\n",
              "  </tbody>\n",
              "</table>\n",
              "</div>\n",
              "    <div class=\"colab-df-buttons\">\n",
              "\n",
              "  <div class=\"colab-df-container\">\n",
              "    <button class=\"colab-df-convert\" onclick=\"convertToInteractive('df-f070a55c-423b-485f-b20a-3cdf0c4f85d4')\"\n",
              "            title=\"Convert this dataframe to an interactive table.\"\n",
              "            style=\"display:none;\">\n",
              "\n",
              "  <svg xmlns=\"http://www.w3.org/2000/svg\" height=\"24px\" viewBox=\"0 -960 960 960\">\n",
              "    <path d=\"M120-120v-720h720v720H120Zm60-500h600v-160H180v160Zm220 220h160v-160H400v160Zm0 220h160v-160H400v160ZM180-400h160v-160H180v160Zm440 0h160v-160H620v160ZM180-180h160v-160H180v160Zm440 0h160v-160H620v160Z\"/>\n",
              "  </svg>\n",
              "    </button>\n",
              "\n",
              "  <style>\n",
              "    .colab-df-container {\n",
              "      display:flex;\n",
              "      gap: 12px;\n",
              "    }\n",
              "\n",
              "    .colab-df-convert {\n",
              "      background-color: #E8F0FE;\n",
              "      border: none;\n",
              "      border-radius: 50%;\n",
              "      cursor: pointer;\n",
              "      display: none;\n",
              "      fill: #1967D2;\n",
              "      height: 32px;\n",
              "      padding: 0 0 0 0;\n",
              "      width: 32px;\n",
              "    }\n",
              "\n",
              "    .colab-df-convert:hover {\n",
              "      background-color: #E2EBFA;\n",
              "      box-shadow: 0px 1px 2px rgba(60, 64, 67, 0.3), 0px 1px 3px 1px rgba(60, 64, 67, 0.15);\n",
              "      fill: #174EA6;\n",
              "    }\n",
              "\n",
              "    .colab-df-buttons div {\n",
              "      margin-bottom: 4px;\n",
              "    }\n",
              "\n",
              "    [theme=dark] .colab-df-convert {\n",
              "      background-color: #3B4455;\n",
              "      fill: #D2E3FC;\n",
              "    }\n",
              "\n",
              "    [theme=dark] .colab-df-convert:hover {\n",
              "      background-color: #434B5C;\n",
              "      box-shadow: 0px 1px 3px 1px rgba(0, 0, 0, 0.15);\n",
              "      filter: drop-shadow(0px 1px 2px rgba(0, 0, 0, 0.3));\n",
              "      fill: #FFFFFF;\n",
              "    }\n",
              "  </style>\n",
              "\n",
              "    <script>\n",
              "      const buttonEl =\n",
              "        document.querySelector('#df-f070a55c-423b-485f-b20a-3cdf0c4f85d4 button.colab-df-convert');\n",
              "      buttonEl.style.display =\n",
              "        google.colab.kernel.accessAllowed ? 'block' : 'none';\n",
              "\n",
              "      async function convertToInteractive(key) {\n",
              "        const element = document.querySelector('#df-f070a55c-423b-485f-b20a-3cdf0c4f85d4');\n",
              "        const dataTable =\n",
              "          await google.colab.kernel.invokeFunction('convertToInteractive',\n",
              "                                                    [key], {});\n",
              "        if (!dataTable) return;\n",
              "\n",
              "        const docLinkHtml = 'Like what you see? Visit the ' +\n",
              "          '<a target=\"_blank\" href=https://colab.research.google.com/notebooks/data_table.ipynb>data table notebook</a>'\n",
              "          + ' to learn more about interactive tables.';\n",
              "        element.innerHTML = '';\n",
              "        dataTable['output_type'] = 'display_data';\n",
              "        await google.colab.output.renderOutput(dataTable, element);\n",
              "        const docLink = document.createElement('div');\n",
              "        docLink.innerHTML = docLinkHtml;\n",
              "        element.appendChild(docLink);\n",
              "      }\n",
              "    </script>\n",
              "  </div>\n",
              "\n",
              "\n",
              "<div id=\"df-fca3c12f-d2b6-42c8-9c67-713e1ab3e493\">\n",
              "  <button class=\"colab-df-quickchart\" onclick=\"quickchart('df-fca3c12f-d2b6-42c8-9c67-713e1ab3e493')\"\n",
              "            title=\"Suggest charts.\"\n",
              "            style=\"display:none;\">\n",
              "\n",
              "<svg xmlns=\"http://www.w3.org/2000/svg\" height=\"24px\"viewBox=\"0 0 24 24\"\n",
              "     width=\"24px\">\n",
              "    <g>\n",
              "        <path d=\"M19 3H5c-1.1 0-2 .9-2 2v14c0 1.1.9 2 2 2h14c1.1 0 2-.9 2-2V5c0-1.1-.9-2-2-2zM9 17H7v-7h2v7zm4 0h-2V7h2v10zm4 0h-2v-4h2v4z\"/>\n",
              "    </g>\n",
              "</svg>\n",
              "  </button>\n",
              "\n",
              "<style>\n",
              "  .colab-df-quickchart {\n",
              "      --bg-color: #E8F0FE;\n",
              "      --fill-color: #1967D2;\n",
              "      --hover-bg-color: #E2EBFA;\n",
              "      --hover-fill-color: #174EA6;\n",
              "      --disabled-fill-color: #AAA;\n",
              "      --disabled-bg-color: #DDD;\n",
              "  }\n",
              "\n",
              "  [theme=dark] .colab-df-quickchart {\n",
              "      --bg-color: #3B4455;\n",
              "      --fill-color: #D2E3FC;\n",
              "      --hover-bg-color: #434B5C;\n",
              "      --hover-fill-color: #FFFFFF;\n",
              "      --disabled-bg-color: #3B4455;\n",
              "      --disabled-fill-color: #666;\n",
              "  }\n",
              "\n",
              "  .colab-df-quickchart {\n",
              "    background-color: var(--bg-color);\n",
              "    border: none;\n",
              "    border-radius: 50%;\n",
              "    cursor: pointer;\n",
              "    display: none;\n",
              "    fill: var(--fill-color);\n",
              "    height: 32px;\n",
              "    padding: 0;\n",
              "    width: 32px;\n",
              "  }\n",
              "\n",
              "  .colab-df-quickchart:hover {\n",
              "    background-color: var(--hover-bg-color);\n",
              "    box-shadow: 0 1px 2px rgba(60, 64, 67, 0.3), 0 1px 3px 1px rgba(60, 64, 67, 0.15);\n",
              "    fill: var(--button-hover-fill-color);\n",
              "  }\n",
              "\n",
              "  .colab-df-quickchart-complete:disabled,\n",
              "  .colab-df-quickchart-complete:disabled:hover {\n",
              "    background-color: var(--disabled-bg-color);\n",
              "    fill: var(--disabled-fill-color);\n",
              "    box-shadow: none;\n",
              "  }\n",
              "\n",
              "  .colab-df-spinner {\n",
              "    border: 2px solid var(--fill-color);\n",
              "    border-color: transparent;\n",
              "    border-bottom-color: var(--fill-color);\n",
              "    animation:\n",
              "      spin 1s steps(1) infinite;\n",
              "  }\n",
              "\n",
              "  @keyframes spin {\n",
              "    0% {\n",
              "      border-color: transparent;\n",
              "      border-bottom-color: var(--fill-color);\n",
              "      border-left-color: var(--fill-color);\n",
              "    }\n",
              "    20% {\n",
              "      border-color: transparent;\n",
              "      border-left-color: var(--fill-color);\n",
              "      border-top-color: var(--fill-color);\n",
              "    }\n",
              "    30% {\n",
              "      border-color: transparent;\n",
              "      border-left-color: var(--fill-color);\n",
              "      border-top-color: var(--fill-color);\n",
              "      border-right-color: var(--fill-color);\n",
              "    }\n",
              "    40% {\n",
              "      border-color: transparent;\n",
              "      border-right-color: var(--fill-color);\n",
              "      border-top-color: var(--fill-color);\n",
              "    }\n",
              "    60% {\n",
              "      border-color: transparent;\n",
              "      border-right-color: var(--fill-color);\n",
              "    }\n",
              "    80% {\n",
              "      border-color: transparent;\n",
              "      border-right-color: var(--fill-color);\n",
              "      border-bottom-color: var(--fill-color);\n",
              "    }\n",
              "    90% {\n",
              "      border-color: transparent;\n",
              "      border-bottom-color: var(--fill-color);\n",
              "    }\n",
              "  }\n",
              "</style>\n",
              "\n",
              "  <script>\n",
              "    async function quickchart(key) {\n",
              "      const quickchartButtonEl =\n",
              "        document.querySelector('#' + key + ' button');\n",
              "      quickchartButtonEl.disabled = true;  // To prevent multiple clicks.\n",
              "      quickchartButtonEl.classList.add('colab-df-spinner');\n",
              "      try {\n",
              "        const charts = await google.colab.kernel.invokeFunction(\n",
              "            'suggestCharts', [key], {});\n",
              "      } catch (error) {\n",
              "        console.error('Error during call to suggestCharts:', error);\n",
              "      }\n",
              "      quickchartButtonEl.classList.remove('colab-df-spinner');\n",
              "      quickchartButtonEl.classList.add('colab-df-quickchart-complete');\n",
              "    }\n",
              "    (() => {\n",
              "      let quickchartButtonEl =\n",
              "        document.querySelector('#df-fca3c12f-d2b6-42c8-9c67-713e1ab3e493 button');\n",
              "      quickchartButtonEl.style.display =\n",
              "        google.colab.kernel.accessAllowed ? 'block' : 'none';\n",
              "    })();\n",
              "  </script>\n",
              "</div>\n",
              "    </div>\n",
              "  </div>\n"
            ]
          },
          "metadata": {},
          "execution_count": 142
        }
      ]
    },
    {
      "cell_type": "code",
      "source": [
        "adv['Price'] = adv['Price'].replace('[Rs\\,]', '', regex=True).astype(int)\n",
        "adv['House size'] = adv['House size'].replace('[\\,sqft]', '', regex=True).astype(int)\n",
        "adv['Baths'] = adv['Baths'].replace('10+', '10').astype(int)\n",
        "adv['Beds'] = adv['Beds'].replace('10+', '10').astype(int)\n",
        "# Display the first 10 rows of the updated DataFrame\n",
        "print(adv.head(10))"
      ],
      "metadata": {
        "colab": {
          "base_uri": "https://localhost:8080/"
        },
        "id": "4Hc8rh9UpSoa",
        "outputId": "17651613-3c6d-4358-e922-78a7843c132d"
      },
      "execution_count": 147,
      "outputs": [
        {
          "output_type": "stream",
          "name": "stdout",
          "text": [
            "       Price  Baths  Beds  House size\n",
            "0    5400000      1     3        1600\n",
            "1   16800000      3     3        1480\n",
            "2   20000000      2     3        2800\n",
            "3  187000000      5     5        4000\n",
            "4    1300000      1     2         900\n",
            "5   55000000      4     4        3300\n",
            "6   45000000      4     4        4100\n",
            "7   16700000      3     3        1400\n",
            "8   50000000      4     4        4000\n",
            "9   16000000      1     3        2000\n"
          ]
        }
      ]
    },
    {
      "cell_type": "code",
      "source": [
        "x_train = adv.drop(columns = 'Price').head(10)\n",
        "print(x_train)"
      ],
      "metadata": {
        "colab": {
          "base_uri": "https://localhost:8080/"
        },
        "id": "DGrG4CLHsO4E",
        "outputId": "9901366d-d5b3-415f-92b2-8ecda60f0761"
      },
      "execution_count": 148,
      "outputs": [
        {
          "output_type": "stream",
          "name": "stdout",
          "text": [
            "   Baths  Beds  House size\n",
            "0      1     3        1600\n",
            "1      3     3        1480\n",
            "2      2     3        2800\n",
            "3      5     5        4000\n",
            "4      1     2         900\n",
            "5      4     4        3300\n",
            "6      4     4        4100\n",
            "7      3     3        1400\n",
            "8      4     4        4000\n",
            "9      1     3        2000\n"
          ]
        }
      ]
    },
    {
      "cell_type": "code",
      "source": [
        "y_train = adv['Price'].head(10)\n",
        "print('         Price')\n",
        "print(y_train)"
      ],
      "metadata": {
        "colab": {
          "base_uri": "https://localhost:8080/"
        },
        "id": "3LF81OQas6-X",
        "outputId": "81b2cb07-7e3b-4f98-cfdf-dedc56c5e778"
      },
      "execution_count": 149,
      "outputs": [
        {
          "output_type": "stream",
          "name": "stdout",
          "text": [
            "         Price\n",
            "0      5400000\n",
            "1     16800000\n",
            "2     20000000\n",
            "3    187000000\n",
            "4      1300000\n",
            "5     55000000\n",
            "6     45000000\n",
            "7     16700000\n",
            "8     50000000\n",
            "9     16000000\n",
            "Name: Price, dtype: int64\n"
          ]
        }
      ]
    },
    {
      "cell_type": "code",
      "source": [
        "x_train  = adv[['Baths', 'Beds', 'House size']].head(10).values\n",
        "\n",
        "print(f\"X shape: {x_train.shape})\")\n",
        "print(x_train)"
      ],
      "metadata": {
        "colab": {
          "base_uri": "https://localhost:8080/"
        },
        "id": "TYiRZmRDtwSl",
        "outputId": "d7bfd518-129d-4536-dafa-ad633cd6c2c5"
      },
      "execution_count": 150,
      "outputs": [
        {
          "output_type": "stream",
          "name": "stdout",
          "text": [
            "X shape: (10, 3))\n",
            "[[   1    3 1600]\n",
            " [   3    3 1480]\n",
            " [   2    3 2800]\n",
            " [   5    5 4000]\n",
            " [   1    2  900]\n",
            " [   4    4 3300]\n",
            " [   4    4 4100]\n",
            " [   3    3 1400]\n",
            " [   4    4 4000]\n",
            " [   1    3 2000]]\n"
          ]
        }
      ]
    },
    {
      "cell_type": "code",
      "source": [
        "y_train = adv['Price'].head(10).values.flatten()\n",
        "\n",
        "print(f\"Y shape: {y_train.shape})\")\n",
        "print(y_train)"
      ],
      "metadata": {
        "colab": {
          "base_uri": "https://localhost:8080/"
        },
        "id": "2dv6He6bufBD",
        "outputId": "b08a23de-d3fe-4adb-fc1c-b53289c670f7"
      },
      "execution_count": 151,
      "outputs": [
        {
          "output_type": "stream",
          "name": "stdout",
          "text": [
            "Y shape: (10,))\n",
            "[  5400000  16800000  20000000 187000000   1300000  55000000  45000000\n",
            "  16700000  50000000  16000000]\n"
          ]
        }
      ]
    },
    {
      "cell_type": "code",
      "source": [
        "# Scatter plot for Baths vs Price\n",
        "plt.figure(figsize=(10, 5))\n",
        "plt.scatter(adv['Baths'].head(10), adv['Price'].head(10), color='green')\n",
        "plt.xlabel('Baths')\n",
        "plt.ylabel('Price')\n",
        "plt.title('Baths vs Price (First 10 rows)')\n",
        "plt.grid(True)\n",
        "plt.show()\n",
        "\n",
        "# Scatter plot for Beds vs Price\n",
        "plt.figure(figsize=(10, 5))\n",
        "plt.scatter(adv['Beds'].head(10), adv['Price'].head(10), color='blue')\n",
        "plt.xlabel('Beds')\n",
        "plt.ylabel('Price')\n",
        "plt.title('Beds vs Price (First 10 rows)')\n",
        "plt.grid(True)\n",
        "plt.show()\n",
        "\n",
        "# Scatter plot for House size vs Price\n",
        "plt.figure(figsize=(10, 5))\n",
        "plt.scatter(adv['House size'].head(10), adv['Price'].head(10), color='purple')\n",
        "plt.xlabel('House size')\n",
        "plt.ylabel('Price')\n",
        "plt.title('House size vs Price (First 10 rows)')\n",
        "plt.grid(True)\n",
        "plt.show()\n",
        "\n"
      ],
      "metadata": {
        "colab": {
          "base_uri": "https://localhost:8080/",
          "height": 1000
        },
        "id": "ONixJfvYvJH3",
        "outputId": "71dc6227-d7fc-4229-80f8-3e9e9be59fba"
      },
      "execution_count": 194,
      "outputs": [
        {
          "output_type": "display_data",
          "data": {
            "text/plain": [
              "<Figure size 1000x500 with 1 Axes>"
            ],
            "image/png": "[encoded data removed]"
          },
          "metadata": {}
        },
        {
          "output_type": "display_data",
          "data": {
            "text/plain": [
              "<Figure size 1000x500 with 1 Axes>"
            ],
            "image/png": "[encoded data removed]"
          },
          "metadata": {}
        },
        {
          "output_type": "display_data",
          "data": {
            "text/plain": [
              "<Figure size 1000x500 with 1 Axes>"
            ],
            "image/png": "[encoded data removed]"
          },
          "metadata": {}
        }
      ]
    },
    {
      "cell_type": "markdown",
      "source": [
        "‎ ‎ ‎ ‎ ‎ ‎ ‎ ‎ ‎ ‎ ‎ ‎ ‎ ‎ ‎ ‎ ‎ ‎ ‎ ‎ ‎ ‎ ‎ ‎ ‎ ‎ ‎ ‎ ‎ ‎ ‎ ‎ ‎ ‎ ‎ ‎ ‎ ‎ ‎ ‎ ‎ ‎ ‎ ‎ ‎ ‎ ‎ ‎ ‎ ‎ ‎ ‎ ‎ ‎ ‎ ‎ ‎ ‎ ‎ ‎ ‎"
      ],
      "metadata": {
        "id": "g5n9PFVHTX0p"
      }
    },
    {
      "cell_type": "markdown",
      "source": [
        "## zscore_normalize_features\n",
        "This function is designed to perform standardization, a process that re-scales each feature or input in the dataset.\n",
        "\n",
        "*   mu = mean for each feature\n",
        "*   sigma =  standard deviation for each feature\n",
        "*   x_norm = the normalized dataset\n",
        "\n",
        "\n",
        "\n",
        "\n",
        "\n",
        "\n",
        "\n"
      ],
      "metadata": {
        "id": "6v9-8F2kKSq1"
      }
    },
    {
      "cell_type": "markdown",
      "source": [],
      "metadata": {
        "id": "RZeShiXOTXRr"
      }
    },
    {
      "cell_type": "code",
      "source": [
        "def zscore_normalize_features(x):\n",
        "\n",
        "    mu     = np.mean(x, axis=0)\n",
        "    sigma  = np.std(x, axis=0)\n",
        "    x_norm = (x - mu) / sigma\n",
        "\n",
        "    return (x_norm, mu, sigma)"
      ],
      "metadata": {
        "id": "6Schgv1qKZmB"
      },
      "execution_count": 199,
      "outputs": []
    },
    {
      "cell_type": "markdown",
      "source": [
        "## compute_cost\n",
        "This function is used to calculate the cost function in the context of linear regression. The cost function measures the **overall** error between the predicted values and the actual values of the target variable.\n",
        "*  m = total data train\n",
        "*  f_wb_i = function/model\n",
        "\n",
        "\n"
      ],
      "metadata": {
        "id": "i7Z8XEj3IAaO"
      }
    },
    {
      "cell_type": "code",
      "source": [
        "def compute_cost(x, y, w, b):\n",
        "    m = x.shape[0]\n",
        "    cost = 0\n",
        "    for i in range(m):\n",
        "        f_wb_i = np.dot(x[i], w) + b\n",
        "        cost = cost + (f_wb_i - y[i])**2\n",
        "    total_cost = 1 / (2 * m) * cost\n",
        "    return total_cost"
      ],
      "metadata": {
        "id": "-Sp-KQswyNdE"
      },
      "execution_count": 153,
      "outputs": []
    },
    {
      "cell_type": "markdown",
      "source": [
        "## compute_gradient\n",
        "This function calculates the gradients of the cost function with respect to the parameters w and b in the context of linear regression. The function calculates the gradients using the partial derivatives of the cost function.The function returns these average gradients, which will be used in the gradient descent algorithm to update the model parameters w and b iteratively to minimize the cost function.\n",
        "\n",
        "*   n = total feature/input\n",
        "*   dj_dw = the gradient of the cost with respect to the parameters w.\n",
        "*   dj_db = the gradient of the cost with respect to the parameters b.\n",
        "\n",
        "\n",
        "   \n",
        "\n",
        "\n",
        "\n",
        "\n",
        "\n",
        "\n"
      ],
      "metadata": {
        "id": "wb50LP-MIJCf"
      }
    },
    {
      "cell_type": "code",
      "source": [
        "def compute_gradient(x, y, w, b):\n",
        "\n",
        "    m,n = x.shape\n",
        "    dj_dw = np.zeros((n,))\n",
        "    dj_db = 0\n",
        "\n",
        "    for i in range(m):\n",
        "        err = (np.dot(x[i], w) + b) - y[i]\n",
        "        for j in range(n):\n",
        "            dj_dw[j] = dj_dw[j] + err * x[i, j]\n",
        "        dj_db = dj_db + err\n",
        "    dj_dw = dj_dw / m\n",
        "    dj_db = dj_db / m\n",
        "\n",
        "    return dj_db, dj_dw"
      ],
      "metadata": {
        "id": "mrcZcKJ20S8l"
      },
      "execution_count": 154,
      "outputs": []
    },
    {
      "cell_type": "markdown",
      "source": [
        "## gradient_descent\n",
        "This function implements the gradient descent algorithm to minimize a cost function during training model.\n",
        "\n",
        "\n",
        "\n",
        "*   x = data (multiple features)\n",
        "*   y = target values\n",
        "*   J_history = An array to store cost J\n",
        "*   w = weights (parameter)\n",
        "*   b = bias (parameter)\n",
        "*   alpha = learning rate\n",
        "*   num_iters = number of iterations to run gradient descent\n",
        "\n",
        "\n",
        "\n",
        "\n",
        "\n",
        "\n",
        "\n"
      ],
      "metadata": {
        "id": "m2hws5WoISLD"
      }
    },
    {
      "cell_type": "code",
      "source": [
        "def gradient_descent(x, y, w_in, b_in, cost_function, gradient_function, alpha, num_iters):\n",
        "\n",
        "    J_history = []\n",
        "    w = copy.deepcopy(w_in)\n",
        "    b = b_in\n",
        "\n",
        "    for i in range(num_iters):\n",
        "\n",
        "        # Calculate the gradient and update the parameters\n",
        "        dj_db,dj_dw = gradient_function(x, y, w, b)\n",
        "\n",
        "        # Update Parameters using w, b, alpha and gradient\n",
        "        w = w - alpha * dj_dw\n",
        "        b = b - alpha * dj_db\n",
        "\n",
        "        # Save cost J at each iteration\n",
        "        if i<num_iters:\n",
        "            J_history.append( cost_function(x, y, w, b))\n",
        "\n",
        "        # Print cost every at intervals 10 times or as many iterations if < 10\n",
        "        if i% math.ceil(num_iters / 10) == 0:\n",
        "            print(f\"Iteration {i:4}: Cost {J_history[-1]:0.5e}\")\n",
        "\n",
        "    return w, b, J_history"
      ],
      "metadata": {
        "id": "Y5bPYD3G0UgN"
      },
      "execution_count": 195,
      "outputs": []
    },
    {
      "cell_type": "code",
      "source": [
        "x_norm, x_mu, x_sigma = zscore_normalize_features(x_train)\n",
        "\n",
        "initial_w = np.zeros(x_train.shape[1])\n",
        "initial_b = 0\n",
        "\n",
        "iterations = 1000\n",
        "alpha = 1.0e-7\n",
        "\n",
        "w_final, b_final, J_hist = gradient_descent(x_norm, y_train, initial_w, initial_b,\n",
        "                                                    compute_cost, compute_gradient,\n",
        "                                                    alpha, iterations)\n",
        "print(f\"\\nb,w found by gradient descent: {b_final:0.2f},{w_final} \\n\")\n",
        "\n",
        "print(f\"Data train prediction with w final and b final\\n\")\n",
        "m,_ = x_train.shape\n",
        "for i in range(m):\n",
        "    print(f\"prediction: {np.dot(x_train[i], w_final) + b_final:0.2f}, target value: {y_train[i]}\")"
      ],
      "metadata": {
        "colab": {
          "base_uri": "https://localhost:8080/"
        },
        "id": "CQUpedye0aKu",
        "outputId": "ba01c967-9e37-4f81-e3f3-ccc63b62b2a5"
      },
      "execution_count": 190,
      "outputs": [
        {
          "output_type": "stream",
          "name": "stdout",
          "text": [
            "Iteration    0: Cost 2.18835e+15   \n",
            "Iteration  100: Cost 2.18828e+15   \n",
            "Iteration  200: Cost 2.18822e+15   \n",
            "Iteration  300: Cost 2.18816e+15   \n",
            "Iteration  400: Cost 2.18809e+15   \n",
            "Iteration  500: Cost 2.18803e+15   \n",
            "Iteration  600: Cost 2.18796e+15   \n",
            "Iteration  700: Cost 2.18790e+15   \n",
            "Iteration  800: Cost 2.18784e+15   \n",
            "Iteration  900: Cost 2.18777e+15   \n",
            "\n",
            "b,w found by gradient descent: 4131.79,[3865. 4467. 3453.] \n",
            "\n",
            "Data train prediction with w final and b final\n",
            "\n",
            "prediction: 5545460.84, target value: 5400000\n",
            "prediction: 5138887.15, target value: 16800000\n",
            "prediction: 9692372.78, target value: 20000000\n",
            "prediction: 13855950.08, target value: 187000000\n",
            "prediction: 3124216.53, target value: 1300000\n",
            "prediction: 11430840.30, target value: 55000000\n",
            "prediction: 14192871.27, target value: 45000000\n",
            "prediction: 4862684.05, target value: 16700000\n",
            "prediction: 13847617.40, target value: 50000000\n",
            "prediction: 6926476.32, target value: 16000000\n"
          ]
        }
      ]
    },
    {
      "cell_type": "code",
      "source": [
        "# Plot cost vs iteration\n",
        "plt.plot(range(iterations), J_hist, color='b')\n",
        "plt.xlabel('Iterations')\n",
        "plt.ylabel('Cost')\n",
        "plt.title('Cost vs Iteration')\n",
        "plt.show()"
      ],
      "metadata": {
        "colab": {
          "base_uri": "https://localhost:8080/",
          "height": 472
        },
        "id": "LVwRHsSG7R4b",
        "outputId": "2f62c68c-0319-4d3c-9ebc-3396661791b7"
      },
      "execution_count": 191,
      "outputs": [
        {
          "output_type": "display_data",
          "data": {
            "text/plain": [
              "<Figure size 640x480 with 1 Axes>"
            ],
            "image/png": "[encoded data removed]"
          },
          "metadata": {}
        }
      ]
    },
    {
      "cell_type": "markdown",
      "source": [
        "As the number of iterations increases, the cost gradually decreases. This indicates that the optimization algorithm is effectively approaching a minimum in the cost function."
      ],
      "metadata": {
        "id": "VbCMt02FNN6y"
      }
    },
    {
      "cell_type": "markdown",
      "source": [
        "## Prediction\n",
        "After obtaining the optimal values for the parameters w and b, we can now utilize the model to predict price based on our learned parameters."
      ],
      "metadata": {
        "id": "pIstSBWkNdgd"
      }
    },
    {
      "cell_type": "code",
      "source": [
        "print(f\"Prediction for a 2 baths, 3 beds, and 18000 sqft house: Rs.{np.dot([2, 3, 18000], w_final) + b_final:0.2f}\")\n",
        "print(f\"Prediction for a 3 baths, 5 beds, and 25000 sqft house: Rs.{np.dot([3, 5, 25000], w_final) + b_final:0.2f}\")"
      ],
      "metadata": {
        "colab": {
          "base_uri": "https://localhost:8080/"
        },
        "id": "Qj0KJ6z8NmL0",
        "outputId": "78dad4b9-4c18-4829-cc98-31d2e4f5aab1"
      },
      "execution_count": 203,
      "outputs": [
        {
          "output_type": "stream",
          "name": "stdout",
          "text": [
            "Prediction for a 2 baths, 3 beds, and 18000 sqft house: Rs.62170961.30\n",
            "Prediction for a 3 baths, 5 beds, and 25000 sqft house: Rs.86351532.22\n"
          ]
        }
      ]
    },
    {
      "cell_type": "markdown",
      "source": [
        "## Original Data vs Normalize Data\n",
        "\n",
        "\n",
        "\n",
        "\n",
        "\n",
        "\n"
      ],
      "metadata": {
        "id": "wvSHAGHYKvY0"
      }
    },
    {
      "cell_type": "code",
      "source": [
        "# normalize the original features\n",
        "x_norm, x_mu, x_sigma = zscore_normalize_features(x_train)\n",
        "print(f\"X_mu = {x_mu}, \\nX_sigma = {x_sigma}\")\n",
        "print(f\"Peak to Peak range by column in Raw        X:{np.ptp(x_train,axis=0)}\")\n",
        "print(f\"Peak to Peak range by column in Normalized X:{np.ptp(x_norm,axis=0)}\")"
      ],
      "metadata": {
        "colab": {
          "base_uri": "https://localhost:8080/"
        },
        "id": "cbfrcVBvK4y6",
        "outputId": "5486b012-7081-435e-bdca-1e20fe1bbf48"
      },
      "execution_count": 200,
      "outputs": [
        {
          "output_type": "stream",
          "name": "stdout",
          "text": [
            "X_mu = [   3.    3. 2558.], \n",
            "X_sigma = [   1.    1. 1167.]\n",
            "Peak to Peak range by column in Raw        X:[   4    3 3200]\n",
            "Peak to Peak range by column in Normalized X:[3. 4. 3.]\n"
          ]
        }
      ]
    },
    {
      "cell_type": "markdown",
      "source": [
        "So this is the peak-to-peak range (the difference between the maximum and minimum values) for each feature in the **original dataset**. The peak-to-peak range for 'Baths' is 4, for 'Beds' is 3, and for 'House size' is 3200. The peak-to-peak ranges **after normalization** are approximately 3 for 'Baths', 4 for 'Beds', and 3 for 'House size'."
      ],
      "metadata": {
        "id": "v43JV7NrLsAj"
      }
    },
    {
      "cell_type": "code",
      "source": [
        "# Define a function to plot normalized and unnormalized distributions\n",
        "def norm_plot(ax, data, label):\n",
        "    ax.hist(data, bins=30, alpha=0.75, label=label)\n",
        "\n",
        "# Assuming x_train contains the data for 'Baths', 'Beds', 'House size', and 'Price'\n",
        "x_train_baths = x_train[:, 0]\n",
        "x_train_beds = x_train[:, 1]\n",
        "x_train_house_size = x_train[:, 2]\n",
        "y_train_price = y_train\n",
        "\n",
        "# Plot before normalization\n",
        "fig, ax = plt.subplots(1, 4, figsize=(16, 3))\n",
        "\n",
        "# Plot 'Baths' before normalization\n",
        "norm_plot(ax[0], x_train_baths, 'Baths (Unnormalized)')\n",
        "ax[0].set_xlabel('Baths')\n",
        "ax[0].set_ylabel('Count')\n",
        "ax[0].legend()\n",
        "\n",
        "# Plot 'Beds' before normalization\n",
        "norm_plot(ax[1], x_train_beds, 'Beds (Unnormalized)')\n",
        "ax[1].set_xlabel('Beds')\n",
        "ax[1].set_ylabel('Count')\n",
        "ax[1].legend()\n",
        "\n",
        "# Plot 'House size' before normalization\n",
        "norm_plot(ax[2], x_train_house_size, 'House size (Unnormalized)')\n",
        "ax[2].set_xlabel('House size')\n",
        "ax[2].set_ylabel('Count')\n",
        "ax[2].legend()\n",
        "\n",
        "# Plot 'Price' before normalization\n",
        "norm_plot(ax[3], y_train_price, 'Price (Unnormalized)')\n",
        "ax[3].set_xlabel('Price')\n",
        "ax[3].set_ylabel('Count')\n",
        "ax[3].legend()\n",
        "\n",
        "fig.suptitle('Distribution of Features before Normalization')\n",
        "plt.tight_layout(rect=[0, 0.03, 1, 0.95])\n",
        "plt.show()\n",
        "\n",
        "# Plot after normalization\n",
        "fig, ax = plt.subplots(1, 4, figsize=(16, 3))\n",
        "\n",
        "# Plot 'Baths' after normalization\n",
        "norm_plot(ax[0], x_norm[:, 0], 'Baths (Normalized)')\n",
        "ax[0].set_xlabel('Baths')\n",
        "ax[0].set_ylabel('Count')\n",
        "ax[0].legend()\n",
        "\n",
        "# Plot 'Beds' after normalization\n",
        "norm_plot(ax[1], x_norm[:, 1], 'Beds (Normalized)')\n",
        "ax[1].set_xlabel('Beds')\n",
        "ax[1].set_ylabel('Count')\n",
        "ax[1].legend()\n",
        "\n",
        "# Plot 'House size' after normalization\n",
        "norm_plot(ax[2], x_norm[:, 2], 'House size (Normalized)')\n",
        "ax[2].set_xlabel('House size')\n",
        "ax[2].set_ylabel('Count')\n",
        "ax[2].legend()\n",
        "\n",
        "# Plot 'Price' after normalization\n",
        "norm_plot(ax[3], y_train_price, 'Price (Normalized)')\n",
        "ax[3].set_xlabel('Price')\n",
        "ax[3].set_ylabel('Count')\n",
        "ax[3].legend()\n",
        "\n",
        "fig.suptitle('Distribution of Features after Normalization')\n",
        "plt.tight_layout(rect=[0, 0.03, 1, 0.95])\n",
        "plt.show()"
      ],
      "metadata": {
        "colab": {
          "base_uri": "https://localhost:8080/",
          "height": 475
        },
        "id": "6rzAAn104m54",
        "outputId": "6930a813-0038-49d9-a894-9eaa3aee7d2e"
      },
      "execution_count": 159,
      "outputs": [
        {
          "output_type": "display_data",
          "data": {
            "text/plain": [
              "<Figure size 1600x300 with 4 Axes>"
            ],
            "image/png": "[encoded data removed]"
          },
          "metadata": {}
        },
        {
          "output_type": "display_data",
          "data": {
            "text/plain": [
              "<Figure size 1600x300 with 4 Axes>"
            ],
            "image/png": "[encoded data removed]"
          },
          "metadata": {}
        }
      ]
    },
    {
      "cell_type": "markdown",
      "source": [],
      "metadata": {
        "id": "BZCwFdO1LqYu"
      }
    }
  ]
}